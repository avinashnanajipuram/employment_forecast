{
  "nbformat": 4,
  "nbformat_minor": 0,
  "metadata": {
    "colab": {
      "name": "employment_forecast.ipynb",
      "provenance": [],
      "collapsed_sections": [
        "Kz9ch--XyJbX"
      ]
    },
    "kernelspec": {
      "name": "python3",
      "display_name": "Python 3"
    },
    "language_info": {
      "name": "python"
    }
  },
  "cells": [
    {
      "cell_type": "code",
      "source": [
        "#statsmodel library for timeseries forecasting\n",
        "!pip3 install statsmodels -U"
      ],
      "metadata": {
        "colab": {
          "base_uri": "https://localhost:8080/"
        },
        "id": "eYesw0TpRxX4",
        "outputId": "1cc3f3b1-9558-4acf-fa2a-208939db21e0"
      },
      "execution_count": 1,
      "outputs": [
        {
          "output_type": "stream",
          "name": "stdout",
          "text": [
            "Requirement already satisfied: statsmodels in /usr/local/lib/python3.7/dist-packages (0.13.1)\n",
            "Requirement already satisfied: numpy>=1.17 in /usr/local/lib/python3.7/dist-packages (from statsmodels) (1.19.5)\n",
            "Requirement already satisfied: scipy>=1.3 in /usr/local/lib/python3.7/dist-packages (from statsmodels) (1.4.1)\n",
            "Requirement already satisfied: patsy>=0.5.2 in /usr/local/lib/python3.7/dist-packages (from statsmodels) (0.5.2)\n",
            "Requirement already satisfied: pandas>=0.25 in /usr/local/lib/python3.7/dist-packages (from statsmodels) (1.1.5)\n",
            "Requirement already satisfied: pytz>=2017.2 in /usr/local/lib/python3.7/dist-packages (from pandas>=0.25->statsmodels) (2018.9)\n",
            "Requirement already satisfied: python-dateutil>=2.7.3 in /usr/local/lib/python3.7/dist-packages (from pandas>=0.25->statsmodels) (2.8.2)\n",
            "Requirement already satisfied: six in /usr/local/lib/python3.7/dist-packages (from patsy>=0.5.2->statsmodels) (1.15.0)\n"
          ]
        }
      ]
    },
    {
      "cell_type": "code",
      "source": [
        "!mkdir data\n",
        "!mkdir plots"
      ],
      "metadata": {
        "id": "qCqNa32OlmcU"
      },
      "execution_count": 2,
      "outputs": []
    },
    {
      "cell_type": "code",
      "execution_count": 3,
      "metadata": {
        "id": "k-JRNF4dnPoV"
      },
      "outputs": [],
      "source": [
        "import pandas as pd\n",
        "import numpy as np\n",
        "import matplotlib.pyplot as plt"
      ]
    },
    {
      "cell_type": "markdown",
      "source": [
        "**Downloading employment data by industry from Labour Market Information Portal (lmip.gov.au) and saving into excel files.**"
      ],
      "metadata": {
        "id": "4XLZV8Xa4QD7"
      }
    },
    {
      "cell_type": "code",
      "source": [
        "!wget = 'https://lmip.gov.au/PortalFile.axd?FieldID=3195450&.xlsx'\n",
        "!mv 'PortalFile.axd?FieldID=3195450&.xlsx' 'data/employment_by_industry_nov2021.xlsx'\n",
        "\n",
        "\n",
        "!wget = 'https://lmip.gov.au/PortalFile.axd?FieldID=3195451&.xlsx'\n",
        "!mv 'PortalFile.axd?FieldID=3195451&.xlsx' 'data/employment_by_industry_time_series.xlsx'\n",
        "\n"
      ],
      "metadata": {
        "colab": {
          "base_uri": "https://localhost:8080/"
        },
        "id": "l7nfAHJnpcFs",
        "outputId": "ddddd591-cb30-4237-d108-d63eb79d4c59"
      },
      "execution_count": 4,
      "outputs": [
        {
          "output_type": "stream",
          "name": "stdout",
          "text": [
            "--2022-01-16 11:13:06--  http://=/\n",
            "Resolving = (=)... failed: Name or service not known.\n",
            "wget: unable to resolve host address ‘=’\n",
            "--2022-01-16 11:13:06--  https://lmip.gov.au/PortalFile.axd?FieldID=3195450&.xlsx\n",
            "Resolving lmip.gov.au (lmip.gov.au)... 165.12.220.23, 2406:4c00:0:220::23\n",
            "Connecting to lmip.gov.au (lmip.gov.au)|165.12.220.23|:443... connected.\n",
            "HTTP request sent, awaiting response... 200 OK\n",
            "Cookie coming from lmip.gov.au attempted to set domain to prod.idc\n",
            "Cookie coming from lmip.gov.au attempted to set domain to prod.idc\n",
            "Length: unspecified [octet-stream]\n",
            "Saving to: ‘PortalFile.axd?FieldID=3195450&.xlsx’\n",
            "\n",
            "PortalFile.axd?Fiel     [  <=>               ]  64.53K   165KB/s    in 0.4s    \n",
            "\n",
            "2022-01-16 11:13:08 (165 KB/s) - ‘PortalFile.axd?FieldID=3195450&.xlsx’ saved [66075]\n",
            "\n",
            "FINISHED --2022-01-16 11:13:08--\n",
            "Total wall clock time: 1.4s\n",
            "Downloaded: 1 files, 65K in 0.4s (165 KB/s)\n",
            "--2022-01-16 11:13:08--  http://=/\n",
            "Resolving = (=)... failed: Name or service not known.\n",
            "wget: unable to resolve host address ‘=’\n",
            "--2022-01-16 11:13:08--  https://lmip.gov.au/PortalFile.axd?FieldID=3195451&.xlsx\n",
            "Resolving lmip.gov.au (lmip.gov.au)... 165.12.220.23, 2406:4c00:0:220::23\n",
            "Connecting to lmip.gov.au (lmip.gov.au)|165.12.220.23|:443... connected.\n",
            "HTTP request sent, awaiting response... 200 OK\n",
            "Cookie coming from lmip.gov.au attempted to set domain to prod.idc\n",
            "Cookie coming from lmip.gov.au attempted to set domain to prod.idc\n",
            "Length: unspecified [octet-stream]\n",
            "Saving to: ‘PortalFile.axd?FieldID=3195451&.xlsx’\n",
            "\n",
            "PortalFile.axd?Fiel     [ <=>                ]  44.79K   228KB/s    in 0.2s    \n",
            "\n",
            "2022-01-16 11:13:09 (228 KB/s) - ‘PortalFile.axd?FieldID=3195451&.xlsx’ saved [45866]\n",
            "\n",
            "FINISHED --2022-01-16 11:13:09--\n",
            "Total wall clock time: 1.0s\n",
            "Downloaded: 1 files, 45K in 0.2s (228 KB/s)\n"
          ]
        }
      ]
    },
    {
      "cell_type": "markdown",
      "source": [
        "##November 2021, Employment by Industry data.\n",
        "\n",
        "\n"
      ],
      "metadata": {
        "id": "Is8jCX0ON82m"
      }
    },
    {
      "cell_type": "markdown",
      "source": [
        "**Extracting data from excel and storing it into a data frame.**"
      ],
      "metadata": {
        "id": "WWEJNfGu42VF"
      }
    },
    {
      "cell_type": "code",
      "source": [
        "df_emp_ind_nov2021 = pd.read_excel('data/employment_by_industry_nov2021.xlsx', sheet_name=1)\n",
        "print(df_emp_ind_nov2021.shape)"
      ],
      "metadata": {
        "id": "uo4_WZxIpiGZ",
        "colab": {
          "base_uri": "https://localhost:8080/"
        },
        "outputId": "be7ffc42-acdf-4ed2-f313-01bc060b92bc"
      },
      "execution_count": 5,
      "outputs": [
        {
          "output_type": "stream",
          "name": "stdout",
          "text": [
            "(874, 10)\n"
          ]
        }
      ]
    },
    {
      "cell_type": "code",
      "source": [
        "print(df_emp_ind_nov2021.columns)"
      ],
      "metadata": {
        "colab": {
          "base_uri": "https://localhost:8080/"
        },
        "id": "LWtQFFIV0HZg",
        "outputId": "dc7dfaca-f031-4e5e-95ae-7ebf9ad755c7"
      },
      "execution_count": 6,
      "outputs": [
        {
          "output_type": "stream",
          "name": "stdout",
          "text": [
            "Index(['Employment Region', 'State/Territory', 'Industry',\n",
            "       'Employment by Industry - Total', 'Employed Full-Time',\n",
            "       'Employed Part-Time', 'Employed - Male', 'Employed - Female',\n",
            "       'Five year growth by Industry', 'Employment Distribution (%)'],\n",
            "      dtype='object')\n"
          ]
        }
      ]
    },
    {
      "cell_type": "markdown",
      "source": [
        "**Fetching the unique values from the Industry column to find out tech sectors.**"
      ],
      "metadata": {
        "id": "ttQvRKQg5HHB"
      }
    },
    {
      "cell_type": "code",
      "source": [
        "df_emp_ind_nov2021['Industry'].unique()"
      ],
      "metadata": {
        "colab": {
          "base_uri": "https://localhost:8080/"
        },
        "id": "9CuFJxhOsR7p",
        "outputId": "dfd7dea5-98ec-4d8a-c390-e77a7812c518"
      },
      "execution_count": 7,
      "outputs": [
        {
          "output_type": "execute_result",
          "data": {
            "text/plain": [
              "array(['Agriculture, Forestry and Fishing', 'Mining', 'Manufacturing',\n",
              "       'Electricity, Gas, Water and Waste Services', 'Construction',\n",
              "       'Wholesale Trade', 'Retail Trade',\n",
              "       'Accommodation and Food Services',\n",
              "       'Transport, Postal and Warehousing',\n",
              "       'Information Media and Telecommunications',\n",
              "       'Financial and Insurance Services',\n",
              "       'Rental, Hiring and Real Estate Services',\n",
              "       'Professional, Scientific and Technical Services',\n",
              "       'Administrative and Support Services',\n",
              "       'Public Administration and Safety', 'Education and Training',\n",
              "       'Health Care and Social Assistance',\n",
              "       'Arts and Recreation Services', 'Other Services'], dtype=object)"
            ]
          },
          "metadata": {},
          "execution_count": 7
        }
      ]
    },
    {
      "cell_type": "markdown",
      "source": [
        "**Analysing the State/Territory column.**"
      ],
      "metadata": {
        "id": "nw55_39M5cLH"
      }
    },
    {
      "cell_type": "code",
      "source": [
        "df_emp_ind_nov2021['State/Territory'].unique()"
      ],
      "metadata": {
        "colab": {
          "base_uri": "https://localhost:8080/"
        },
        "id": "oFiKf1ZOtKjV",
        "outputId": "26d65733-451a-4dd6-91c4-3a1945f5d1ce"
      },
      "execution_count": 8,
      "outputs": [
        {
          "output_type": "execute_result",
          "data": {
            "text/plain": [
              "array(['NSW/ACT', 'NSW', 'VIC', 'QLD', 'SA', 'WA', 'TAS', 'NT', 'AUST'],\n",
              "      dtype=object)"
            ]
          },
          "metadata": {},
          "execution_count": 8
        }
      ]
    },
    {
      "cell_type": "markdown",
      "source": [
        "Storing the tech sector value into a variable.\n",
        "\n",
        "In this analysis, we are considering only *Information Media and Telecommunications* as tech sector but other industries such as *Professional, Scientific and Technical Services* also includes tech jobs.\n"
      ],
      "metadata": {
        "id": "ceBmpy1T5hxB"
      }
    },
    {
      "cell_type": "code",
      "source": [
        "tech_sector= 'Information Media and Telecommunications'  #, 'Professional, Scientific and Technical Services']"
      ],
      "metadata": {
        "id": "fsyiqFpmsSDG"
      },
      "execution_count": 9,
      "outputs": []
    },
    {
      "cell_type": "code",
      "source": [
        "df_emp_ind_nov2021[(df_emp_ind_nov2021['Industry'] == tech_sector) & (df_emp_ind_nov2021['State/Territory'] == 'AUST')]"
      ],
      "metadata": {
        "colab": {
          "base_uri": "https://localhost:8080/",
          "height": 177
        },
        "id": "IpRB0xx_sSF-",
        "outputId": "5f140bd5-f66b-4f3b-bfe6-9baa9dec77c2"
      },
      "execution_count": 10,
      "outputs": [
        {
          "output_type": "execute_result",
          "data": {
            "text/html": [
              "\n",
              "  <div id=\"df-af6cc651-24f8-4d50-990c-6536da8ab2e1\">\n",
              "    <div class=\"colab-df-container\">\n",
              "      <div>\n",
              "<style scoped>\n",
              "    .dataframe tbody tr th:only-of-type {\n",
              "        vertical-align: middle;\n",
              "    }\n",
              "\n",
              "    .dataframe tbody tr th {\n",
              "        vertical-align: top;\n",
              "    }\n",
              "\n",
              "    .dataframe thead th {\n",
              "        text-align: right;\n",
              "    }\n",
              "</style>\n",
              "<table border=\"1\" class=\"dataframe\">\n",
              "  <thead>\n",
              "    <tr style=\"text-align: right;\">\n",
              "      <th></th>\n",
              "      <th>Employment Region</th>\n",
              "      <th>State/Territory</th>\n",
              "      <th>Industry</th>\n",
              "      <th>Employment by Industry - Total</th>\n",
              "      <th>Employed Full-Time</th>\n",
              "      <th>Employed Part-Time</th>\n",
              "      <th>Employed - Male</th>\n",
              "      <th>Employed - Female</th>\n",
              "      <th>Five year growth by Industry</th>\n",
              "      <th>Employment Distribution (%)</th>\n",
              "    </tr>\n",
              "  </thead>\n",
              "  <tbody>\n",
              "    <tr>\n",
              "      <th>864</th>\n",
              "      <td>Australia</td>\n",
              "      <td>AUST</td>\n",
              "      <td>Information Media and Telecommunications</td>\n",
              "      <td>192500</td>\n",
              "      <td>144300</td>\n",
              "      <td>40000</td>\n",
              "      <td>99400</td>\n",
              "      <td>87000</td>\n",
              "      <td>-23800</td>\n",
              "      <td>1.5</td>\n",
              "    </tr>\n",
              "  </tbody>\n",
              "</table>\n",
              "</div>\n",
              "      <button class=\"colab-df-convert\" onclick=\"convertToInteractive('df-af6cc651-24f8-4d50-990c-6536da8ab2e1')\"\n",
              "              title=\"Convert this dataframe to an interactive table.\"\n",
              "              style=\"display:none;\">\n",
              "        \n",
              "  <svg xmlns=\"http://www.w3.org/2000/svg\" height=\"24px\"viewBox=\"0 0 24 24\"\n",
              "       width=\"24px\">\n",
              "    <path d=\"M0 0h24v24H0V0z\" fill=\"none\"/>\n",
              "    <path d=\"M18.56 5.44l.94 2.06.94-2.06 2.06-.94-2.06-.94-.94-2.06-.94 2.06-2.06.94zm-11 1L8.5 8.5l.94-2.06 2.06-.94-2.06-.94L8.5 2.5l-.94 2.06-2.06.94zm10 10l.94 2.06.94-2.06 2.06-.94-2.06-.94-.94-2.06-.94 2.06-2.06.94z\"/><path d=\"M17.41 7.96l-1.37-1.37c-.4-.4-.92-.59-1.43-.59-.52 0-1.04.2-1.43.59L10.3 9.45l-7.72 7.72c-.78.78-.78 2.05 0 2.83L4 21.41c.39.39.9.59 1.41.59.51 0 1.02-.2 1.41-.59l7.78-7.78 2.81-2.81c.8-.78.8-2.07 0-2.86zM5.41 20L4 18.59l7.72-7.72 1.47 1.35L5.41 20z\"/>\n",
              "  </svg>\n",
              "      </button>\n",
              "      \n",
              "  <style>\n",
              "    .colab-df-container {\n",
              "      display:flex;\n",
              "      flex-wrap:wrap;\n",
              "      gap: 12px;\n",
              "    }\n",
              "\n",
              "    .colab-df-convert {\n",
              "      background-color: #E8F0FE;\n",
              "      border: none;\n",
              "      border-radius: 50%;\n",
              "      cursor: pointer;\n",
              "      display: none;\n",
              "      fill: #1967D2;\n",
              "      height: 32px;\n",
              "      padding: 0 0 0 0;\n",
              "      width: 32px;\n",
              "    }\n",
              "\n",
              "    .colab-df-convert:hover {\n",
              "      background-color: #E2EBFA;\n",
              "      box-shadow: 0px 1px 2px rgba(60, 64, 67, 0.3), 0px 1px 3px 1px rgba(60, 64, 67, 0.15);\n",
              "      fill: #174EA6;\n",
              "    }\n",
              "\n",
              "    [theme=dark] .colab-df-convert {\n",
              "      background-color: #3B4455;\n",
              "      fill: #D2E3FC;\n",
              "    }\n",
              "\n",
              "    [theme=dark] .colab-df-convert:hover {\n",
              "      background-color: #434B5C;\n",
              "      box-shadow: 0px 1px 3px 1px rgba(0, 0, 0, 0.15);\n",
              "      filter: drop-shadow(0px 1px 2px rgba(0, 0, 0, 0.3));\n",
              "      fill: #FFFFFF;\n",
              "    }\n",
              "  </style>\n",
              "\n",
              "      <script>\n",
              "        const buttonEl =\n",
              "          document.querySelector('#df-af6cc651-24f8-4d50-990c-6536da8ab2e1 button.colab-df-convert');\n",
              "        buttonEl.style.display =\n",
              "          google.colab.kernel.accessAllowed ? 'block' : 'none';\n",
              "\n",
              "        async function convertToInteractive(key) {\n",
              "          const element = document.querySelector('#df-af6cc651-24f8-4d50-990c-6536da8ab2e1');\n",
              "          const dataTable =\n",
              "            await google.colab.kernel.invokeFunction('convertToInteractive',\n",
              "                                                     [key], {});\n",
              "          if (!dataTable) return;\n",
              "\n",
              "          const docLinkHtml = 'Like what you see? Visit the ' +\n",
              "            '<a target=\"_blank\" href=https://colab.research.google.com/notebooks/data_table.ipynb>data table notebook</a>'\n",
              "            + ' to learn more about interactive tables.';\n",
              "          element.innerHTML = '';\n",
              "          dataTable['output_type'] = 'display_data';\n",
              "          await google.colab.output.renderOutput(dataTable, element);\n",
              "          const docLink = document.createElement('div');\n",
              "          docLink.innerHTML = docLinkHtml;\n",
              "          element.appendChild(docLink);\n",
              "        }\n",
              "      </script>\n",
              "    </div>\n",
              "  </div>\n",
              "  "
            ],
            "text/plain": [
              "    Employment Region  ... Employment Distribution (%)\n",
              "864         Australia  ...                         1.5\n",
              "\n",
              "[1 rows x 10 columns]"
            ]
          },
          "metadata": {},
          "execution_count": 10
        }
      ]
    },
    {
      "cell_type": "markdown",
      "source": [
        "**Break down by gender and employment type.**"
      ],
      "metadata": {
        "id": "_tmAOyTqpYXv"
      }
    },
    {
      "cell_type": "code",
      "source": [
        "emp_ind_dict = df_emp_ind_nov2021[(df_emp_ind_nov2021['Industry'] == tech_sector) & (df_emp_ind_nov2021['State/Territory'] == 'AUST')].to_dict('records')[0]\n",
        "emp_ind_gender = {'male': emp_ind_dict['Employed - Male'],\n",
        "                  'female': emp_ind_dict['Employed - Female']}\n",
        "print(emp_ind_gender)\n",
        "\n",
        "\n",
        "emp_ind_employed = {'Full-Time': emp_ind_dict['Employed Full-Time'],\n",
        "                  'Part-Time': emp_ind_dict['Employed Part-Time']}\n",
        "emp_ind_employed\n"
      ],
      "metadata": {
        "colab": {
          "base_uri": "https://localhost:8080/"
        },
        "id": "iTlwRHDyvNy4",
        "outputId": "73cd3920-dd9a-4f1a-fc8e-243ef7e6851c"
      },
      "execution_count": 11,
      "outputs": [
        {
          "output_type": "stream",
          "name": "stdout",
          "text": [
            "{'male': 99400, 'female': 87000}\n"
          ]
        },
        {
          "output_type": "execute_result",
          "data": {
            "text/plain": [
              "{'Full-Time': 144300, 'Part-Time': 40000}"
            ]
          },
          "metadata": {},
          "execution_count": 11
        }
      ]
    },
    {
      "cell_type": "code",
      "source": [
        "fig = plt.figure(figsize =(18, 10))\n",
        "\n",
        "ax1 = plt.subplot2grid((2,4),(0,0))\n",
        "plt.pie(emp_ind_gender.values(), labels = emp_ind_gender.keys(), autopct='%1.1f%%')\n",
        "plt.title('Gender')\n",
        "#next one\n",
        "ax1 = plt.subplot2grid((2, 4), (0, 1))\n",
        "plt.pie(emp_ind_employed.values(), labels = emp_ind_employed.keys(), autopct='%1.1f%%')\n",
        "plt.title('Employment type')\n",
        "plt.savefig('plots/Gender_and_Employment_type.png')"
      ],
      "metadata": {
        "colab": {
          "base_uri": "https://localhost:8080/",
          "height": 265
        },
        "id": "iolu1z66wjWr",
        "outputId": "34b2f875-b1aa-42db-baac-5a3322c66af7"
      },
      "execution_count": 12,
      "outputs": [
        {
          "output_type": "display_data",
          "data": {
            "image/png": "[encoded data removed]",
            "text/plain": [
              "<Figure size 1296x720 with 2 Axes>"
            ]
          },
          "metadata": {}
        }
      ]
    },
    {
      "cell_type": "markdown",
      "source": [
        "**Analysing different industry employment distribution in Australia.**"
      ],
      "metadata": {
        "id": "o3UfedFUugiH"
      }
    },
    {
      "cell_type": "code",
      "source": [
        "df_emp_ind_nov2021[(df_emp_ind_nov2021['State/Territory'] == 'AUST')]"
      ],
      "metadata": {
        "colab": {
          "base_uri": "https://localhost:8080/",
          "height": 932
        },
        "id": "2CYIt_M__O4P",
        "outputId": "06378cf8-ff4e-40dd-b340-e87a382336e8"
      },
      "execution_count": 13,
      "outputs": [
        {
          "output_type": "execute_result",
          "data": {
            "text/html": [
              "\n",
              "  <div id=\"df-001e63f3-9f11-4dba-93ed-ea5b43e00aa6\">\n",
              "    <div class=\"colab-df-container\">\n",
              "      <div>\n",
              "<style scoped>\n",
              "    .dataframe tbody tr th:only-of-type {\n",
              "        vertical-align: middle;\n",
              "    }\n",
              "\n",
              "    .dataframe tbody tr th {\n",
              "        vertical-align: top;\n",
              "    }\n",
              "\n",
              "    .dataframe thead th {\n",
              "        text-align: right;\n",
              "    }\n",
              "</style>\n",
              "<table border=\"1\" class=\"dataframe\">\n",
              "  <thead>\n",
              "    <tr style=\"text-align: right;\">\n",
              "      <th></th>\n",
              "      <th>Employment Region</th>\n",
              "      <th>State/Territory</th>\n",
              "      <th>Industry</th>\n",
              "      <th>Employment by Industry - Total</th>\n",
              "      <th>Employed Full-Time</th>\n",
              "      <th>Employed Part-Time</th>\n",
              "      <th>Employed - Male</th>\n",
              "      <th>Employed - Female</th>\n",
              "      <th>Five year growth by Industry</th>\n",
              "      <th>Employment Distribution (%)</th>\n",
              "    </tr>\n",
              "  </thead>\n",
              "  <tbody>\n",
              "    <tr>\n",
              "      <th>855</th>\n",
              "      <td>Australia</td>\n",
              "      <td>AUST</td>\n",
              "      <td>Agriculture, Forestry and Fishing</td>\n",
              "      <td>316100</td>\n",
              "      <td>212100</td>\n",
              "      <td>95800</td>\n",
              "      <td>200800</td>\n",
              "      <td>105800</td>\n",
              "      <td>22100</td>\n",
              "      <td>2.4</td>\n",
              "    </tr>\n",
              "    <tr>\n",
              "      <th>856</th>\n",
              "      <td>Australia</td>\n",
              "      <td>AUST</td>\n",
              "      <td>Mining</td>\n",
              "      <td>271300</td>\n",
              "      <td>259500</td>\n",
              "      <td>11900</td>\n",
              "      <td>222800</td>\n",
              "      <td>48600</td>\n",
              "      <td>47600</td>\n",
              "      <td>2.1</td>\n",
              "    </tr>\n",
              "    <tr>\n",
              "      <th>857</th>\n",
              "      <td>Australia</td>\n",
              "      <td>AUST</td>\n",
              "      <td>Manufacturing</td>\n",
              "      <td>864300</td>\n",
              "      <td>773200</td>\n",
              "      <td>161100</td>\n",
              "      <td>667700</td>\n",
              "      <td>273100</td>\n",
              "      <td>-107800</td>\n",
              "      <td>6.5</td>\n",
              "    </tr>\n",
              "    <tr>\n",
              "      <th>858</th>\n",
              "      <td>Australia</td>\n",
              "      <td>AUST</td>\n",
              "      <td>Electricity, Gas, Water and Waste Services</td>\n",
              "      <td>134100</td>\n",
              "      <td>136600</td>\n",
              "      <td>11800</td>\n",
              "      <td>111800</td>\n",
              "      <td>35700</td>\n",
              "      <td>-1900</td>\n",
              "      <td>1.0</td>\n",
              "    </tr>\n",
              "    <tr>\n",
              "      <th>859</th>\n",
              "      <td>Australia</td>\n",
              "      <td>AUST</td>\n",
              "      <td>Construction</td>\n",
              "      <td>1143600</td>\n",
              "      <td>965300</td>\n",
              "      <td>173100</td>\n",
              "      <td>995300</td>\n",
              "      <td>145900</td>\n",
              "      <td>77900</td>\n",
              "      <td>8.6</td>\n",
              "    </tr>\n",
              "    <tr>\n",
              "      <th>860</th>\n",
              "      <td>Australia</td>\n",
              "      <td>AUST</td>\n",
              "      <td>Wholesale Trade</td>\n",
              "      <td>359000</td>\n",
              "      <td>288900</td>\n",
              "      <td>69600</td>\n",
              "      <td>238000</td>\n",
              "      <td>122100</td>\n",
              "      <td>-1900</td>\n",
              "      <td>2.7</td>\n",
              "    </tr>\n",
              "    <tr>\n",
              "      <th>861</th>\n",
              "      <td>Australia</td>\n",
              "      <td>AUST</td>\n",
              "      <td>Retail Trade</td>\n",
              "      <td>1281300</td>\n",
              "      <td>657500</td>\n",
              "      <td>621800</td>\n",
              "      <td>594800</td>\n",
              "      <td>687200</td>\n",
              "      <td>42700</td>\n",
              "      <td>9.7</td>\n",
              "    </tr>\n",
              "    <tr>\n",
              "      <th>862</th>\n",
              "      <td>Australia</td>\n",
              "      <td>AUST</td>\n",
              "      <td>Accommodation and Food Services</td>\n",
              "      <td>849500</td>\n",
              "      <td>317500</td>\n",
              "      <td>525300</td>\n",
              "      <td>382500</td>\n",
              "      <td>465900</td>\n",
              "      <td>-4300</td>\n",
              "      <td>6.4</td>\n",
              "    </tr>\n",
              "    <tr>\n",
              "      <th>863</th>\n",
              "      <td>Australia</td>\n",
              "      <td>AUST</td>\n",
              "      <td>Transport, Postal and Warehousing</td>\n",
              "      <td>655300</td>\n",
              "      <td>501600</td>\n",
              "      <td>145800</td>\n",
              "      <td>511600</td>\n",
              "      <td>137700</td>\n",
              "      <td>40800</td>\n",
              "      <td>5.0</td>\n",
              "    </tr>\n",
              "    <tr>\n",
              "      <th>864</th>\n",
              "      <td>Australia</td>\n",
              "      <td>AUST</td>\n",
              "      <td>Information Media and Telecommunications</td>\n",
              "      <td>192500</td>\n",
              "      <td>144300</td>\n",
              "      <td>40000</td>\n",
              "      <td>99400</td>\n",
              "      <td>87000</td>\n",
              "      <td>-23800</td>\n",
              "      <td>1.5</td>\n",
              "    </tr>\n",
              "    <tr>\n",
              "      <th>865</th>\n",
              "      <td>Australia</td>\n",
              "      <td>AUST</td>\n",
              "      <td>Financial and Insurance Services</td>\n",
              "      <td>528400</td>\n",
              "      <td>422500</td>\n",
              "      <td>80600</td>\n",
              "      <td>256900</td>\n",
              "      <td>246200</td>\n",
              "      <td>102200</td>\n",
              "      <td>4.0</td>\n",
              "    </tr>\n",
              "    <tr>\n",
              "      <th>866</th>\n",
              "      <td>Australia</td>\n",
              "      <td>AUST</td>\n",
              "      <td>Rental, Hiring and Real Estate Services</td>\n",
              "      <td>235500</td>\n",
              "      <td>171500</td>\n",
              "      <td>52800</td>\n",
              "      <td>115300</td>\n",
              "      <td>109700</td>\n",
              "      <td>17300</td>\n",
              "      <td>1.8</td>\n",
              "    </tr>\n",
              "    <tr>\n",
              "      <th>867</th>\n",
              "      <td>Australia</td>\n",
              "      <td>AUST</td>\n",
              "      <td>Professional, Scientific and Technical Services</td>\n",
              "      <td>1226600</td>\n",
              "      <td>948400</td>\n",
              "      <td>264800</td>\n",
              "      <td>661800</td>\n",
              "      <td>547900</td>\n",
              "      <td>209000</td>\n",
              "      <td>9.3</td>\n",
              "    </tr>\n",
              "    <tr>\n",
              "      <th>868</th>\n",
              "      <td>Australia</td>\n",
              "      <td>AUST</td>\n",
              "      <td>Administrative and Support Services</td>\n",
              "      <td>448300</td>\n",
              "      <td>247800</td>\n",
              "      <td>161700</td>\n",
              "      <td>206900</td>\n",
              "      <td>200600</td>\n",
              "      <td>9700</td>\n",
              "      <td>3.4</td>\n",
              "    </tr>\n",
              "    <tr>\n",
              "      <th>869</th>\n",
              "      <td>Australia</td>\n",
              "      <td>AUST</td>\n",
              "      <td>Public Administration and Safety</td>\n",
              "      <td>921700</td>\n",
              "      <td>743200</td>\n",
              "      <td>143100</td>\n",
              "      <td>458000</td>\n",
              "      <td>426800</td>\n",
              "      <td>153100</td>\n",
              "      <td>7.0</td>\n",
              "    </tr>\n",
              "    <tr>\n",
              "      <th>870</th>\n",
              "      <td>Australia</td>\n",
              "      <td>AUST</td>\n",
              "      <td>Education and Training</td>\n",
              "      <td>1115600</td>\n",
              "      <td>669100</td>\n",
              "      <td>443400</td>\n",
              "      <td>308100</td>\n",
              "      <td>805400</td>\n",
              "      <td>133300</td>\n",
              "      <td>8.4</td>\n",
              "    </tr>\n",
              "    <tr>\n",
              "      <th>871</th>\n",
              "      <td>Australia</td>\n",
              "      <td>AUST</td>\n",
              "      <td>Health Care and Social Assistance</td>\n",
              "      <td>1900100</td>\n",
              "      <td>1037200</td>\n",
              "      <td>814900</td>\n",
              "      <td>426900</td>\n",
              "      <td>1435000</td>\n",
              "      <td>350100</td>\n",
              "      <td>14.4</td>\n",
              "    </tr>\n",
              "    <tr>\n",
              "      <th>872</th>\n",
              "      <td>Australia</td>\n",
              "      <td>AUST</td>\n",
              "      <td>Arts and Recreation Services</td>\n",
              "      <td>234300</td>\n",
              "      <td>122200</td>\n",
              "      <td>110400</td>\n",
              "      <td>120500</td>\n",
              "      <td>107600</td>\n",
              "      <td>22000</td>\n",
              "      <td>1.8</td>\n",
              "    </tr>\n",
              "    <tr>\n",
              "      <th>873</th>\n",
              "      <td>Australia</td>\n",
              "      <td>AUST</td>\n",
              "      <td>Other Services</td>\n",
              "      <td>543800</td>\n",
              "      <td>359800</td>\n",
              "      <td>174300</td>\n",
              "      <td>296900</td>\n",
              "      <td>241900</td>\n",
              "      <td>77400</td>\n",
              "      <td>4.1</td>\n",
              "    </tr>\n",
              "  </tbody>\n",
              "</table>\n",
              "</div>\n",
              "      <button class=\"colab-df-convert\" onclick=\"convertToInteractive('df-001e63f3-9f11-4dba-93ed-ea5b43e00aa6')\"\n",
              "              title=\"Convert this dataframe to an interactive table.\"\n",
              "              style=\"display:none;\">\n",
              "        \n",
              "  <svg xmlns=\"http://www.w3.org/2000/svg\" height=\"24px\"viewBox=\"0 0 24 24\"\n",
              "       width=\"24px\">\n",
              "    <path d=\"M0 0h24v24H0V0z\" fill=\"none\"/>\n",
              "    <path d=\"M18.56 5.44l.94 2.06.94-2.06 2.06-.94-2.06-.94-.94-2.06-.94 2.06-2.06.94zm-11 1L8.5 8.5l.94-2.06 2.06-.94-2.06-.94L8.5 2.5l-.94 2.06-2.06.94zm10 10l.94 2.06.94-2.06 2.06-.94-2.06-.94-.94-2.06-.94 2.06-2.06.94z\"/><path d=\"M17.41 7.96l-1.37-1.37c-.4-.4-.92-.59-1.43-.59-.52 0-1.04.2-1.43.59L10.3 9.45l-7.72 7.72c-.78.78-.78 2.05 0 2.83L4 21.41c.39.39.9.59 1.41.59.51 0 1.02-.2 1.41-.59l7.78-7.78 2.81-2.81c.8-.78.8-2.07 0-2.86zM5.41 20L4 18.59l7.72-7.72 1.47 1.35L5.41 20z\"/>\n",
              "  </svg>\n",
              "      </button>\n",
              "      \n",
              "  <style>\n",
              "    .colab-df-container {\n",
              "      display:flex;\n",
              "      flex-wrap:wrap;\n",
              "      gap: 12px;\n",
              "    }\n",
              "\n",
              "    .colab-df-convert {\n",
              "      background-color: #E8F0FE;\n",
              "      border: none;\n",
              "      border-radius: 50%;\n",
              "      cursor: pointer;\n",
              "      display: none;\n",
              "      fill: #1967D2;\n",
              "      height: 32px;\n",
              "      padding: 0 0 0 0;\n",
              "      width: 32px;\n",
              "    }\n",
              "\n",
              "    .colab-df-convert:hover {\n",
              "      background-color: #E2EBFA;\n",
              "      box-shadow: 0px 1px 2px rgba(60, 64, 67, 0.3), 0px 1px 3px 1px rgba(60, 64, 67, 0.15);\n",
              "      fill: #174EA6;\n",
              "    }\n",
              "\n",
              "    [theme=dark] .colab-df-convert {\n",
              "      background-color: #3B4455;\n",
              "      fill: #D2E3FC;\n",
              "    }\n",
              "\n",
              "    [theme=dark] .colab-df-convert:hover {\n",
              "      background-color: #434B5C;\n",
              "      box-shadow: 0px 1px 3px 1px rgba(0, 0, 0, 0.15);\n",
              "      filter: drop-shadow(0px 1px 2px rgba(0, 0, 0, 0.3));\n",
              "      fill: #FFFFFF;\n",
              "    }\n",
              "  </style>\n",
              "\n",
              "      <script>\n",
              "        const buttonEl =\n",
              "          document.querySelector('#df-001e63f3-9f11-4dba-93ed-ea5b43e00aa6 button.colab-df-convert');\n",
              "        buttonEl.style.display =\n",
              "          google.colab.kernel.accessAllowed ? 'block' : 'none';\n",
              "\n",
              "        async function convertToInteractive(key) {\n",
              "          const element = document.querySelector('#df-001e63f3-9f11-4dba-93ed-ea5b43e00aa6');\n",
              "          const dataTable =\n",
              "            await google.colab.kernel.invokeFunction('convertToInteractive',\n",
              "                                                     [key], {});\n",
              "          if (!dataTable) return;\n",
              "\n",
              "          const docLinkHtml = 'Like what you see? Visit the ' +\n",
              "            '<a target=\"_blank\" href=https://colab.research.google.com/notebooks/data_table.ipynb>data table notebook</a>'\n",
              "            + ' to learn more about interactive tables.';\n",
              "          element.innerHTML = '';\n",
              "          dataTable['output_type'] = 'display_data';\n",
              "          await google.colab.output.renderOutput(dataTable, element);\n",
              "          const docLink = document.createElement('div');\n",
              "          docLink.innerHTML = docLinkHtml;\n",
              "          element.appendChild(docLink);\n",
              "        }\n",
              "      </script>\n",
              "    </div>\n",
              "  </div>\n",
              "  "
            ],
            "text/plain": [
              "    Employment Region  ... Employment Distribution (%)\n",
              "855         Australia  ...                         2.4\n",
              "856         Australia  ...                         2.1\n",
              "857         Australia  ...                         6.5\n",
              "858         Australia  ...                         1.0\n",
              "859         Australia  ...                         8.6\n",
              "860         Australia  ...                         2.7\n",
              "861         Australia  ...                         9.7\n",
              "862         Australia  ...                         6.4\n",
              "863         Australia  ...                         5.0\n",
              "864         Australia  ...                         1.5\n",
              "865         Australia  ...                         4.0\n",
              "866         Australia  ...                         1.8\n",
              "867         Australia  ...                         9.3\n",
              "868         Australia  ...                         3.4\n",
              "869         Australia  ...                         7.0\n",
              "870         Australia  ...                         8.4\n",
              "871         Australia  ...                        14.4\n",
              "872         Australia  ...                         1.8\n",
              "873         Australia  ...                         4.1\n",
              "\n",
              "[19 rows x 10 columns]"
            ]
          },
          "metadata": {},
          "execution_count": 13
        }
      ]
    },
    {
      "cell_type": "code",
      "source": [
        "emp_ind_dict1 = df_emp_ind_nov2021[(df_emp_ind_nov2021['State/Territory'] == 'AUST')]\n",
        "emp_ind_dict1 = emp_ind_dict1[['Industry','Employment Distribution (%)']]\n"
      ],
      "metadata": {
        "id": "V-GgnAmt_mJc"
      },
      "execution_count": 14,
      "outputs": []
    },
    {
      "cell_type": "code",
      "source": [
        "fig, ax = plt.subplots(figsize =(10, 10))\n",
        "\n",
        "plt.barh(emp_ind_dict1['Industry'],emp_ind_dict1['Employment Distribution (%)'])\n",
        "plt.title('Employment Distribution (%) by Industry', fontsize=14)\n",
        "plt.ylabel('Industry', fontsize=14)\n",
        "plt.xlabel('Employment Distribution (%)', fontsize=14)\n",
        "plt.xticks(rotation=90)\n",
        "\n",
        "for i, v in enumerate(emp_ind_dict1['Employment Distribution (%)']):\n",
        "  plt.text(v+0.1,i+0.1, str(v))\n",
        "\n",
        "plt.tight_layout()\n",
        "\n",
        "plt.savefig('plots/Employment_Distribution_by_Industry.png')"
      ],
      "metadata": {
        "colab": {
          "base_uri": "https://localhost:8080/",
          "height": 729
        },
        "id": "iv_chucuAitW",
        "outputId": "2af96f2d-722b-43b7-f46c-8048d21f5df4"
      },
      "execution_count": 15,
      "outputs": [
        {
          "output_type": "display_data",
          "data": {
            "image/png": "[encoded data removed]",
            "text/plain": [
              "<Figure size 720x720 with 1 Axes>"
            ]
          },
          "metadata": {
            "needs_background": "light"
          }
        }
      ]
    },
    {
      "cell_type": "code",
      "source": [
        "emp_ind_dict2 = df_emp_ind_nov2021[(df_emp_ind_nov2021['Industry'] == tech_sector)]\n",
        "\n",
        "emp_ind_dict2.drop('Employment Region', inplace=True, axis=1)\n",
        "emp_ind_dict2.drop('Industry', inplace=True, axis=1)\n",
        "emp_ind_dict2=emp_ind_dict2.groupby(by=[\"State/Territory\"], dropna=False).sum()\n",
        "emp_ind_dict2 = emp_ind_dict2.drop(\"AUST\")\n",
        "emp_ind_dict2=emp_ind_dict2.reset_index(level=['State/Territory'])"
      ],
      "metadata": {
        "colab": {
          "base_uri": "https://localhost:8080/"
        },
        "id": "gMd0F3eXO8TX",
        "outputId": "39eee8a6-4a5b-4319-c55c-33e897b73aa5"
      },
      "execution_count": 16,
      "outputs": [
        {
          "output_type": "stream",
          "name": "stderr",
          "text": [
            "/usr/local/lib/python3.7/dist-packages/pandas/core/frame.py:4174: SettingWithCopyWarning: \n",
            "A value is trying to be set on a copy of a slice from a DataFrame\n",
            "\n",
            "See the caveats in the documentation: https://pandas.pydata.org/pandas-docs/stable/user_guide/indexing.html#returning-a-view-versus-a-copy\n",
            "  errors=errors,\n"
          ]
        }
      ]
    },
    {
      "cell_type": "markdown",
      "source": [
        "**Employment type by state and gender by state.**\n",
        "\n"
      ],
      "metadata": {
        "id": "iKcBeK3rv2T6"
      }
    },
    {
      "cell_type": "code",
      "source": [
        "fig = plt.figure(figsize =(10, 10))\n",
        "\n",
        "\n",
        "plt.bar(emp_ind_dict2['State/Territory'], emp_ind_dict2['Employed - Male'])\n",
        "plt.bar(emp_ind_dict2['State/Territory'], emp_ind_dict2['Employed - Female'],bottom=emp_ind_dict2['Employed - Male'])\n",
        "plt.xlabel(\"State\")\n",
        "plt.ylabel(\"Number of Employees\")\n",
        "plt.legend(['Male','Female'])\n",
        "plt.title('Gender_in_tech_sector_employment_by_state')\n",
        "plt.savefig('plots/Gender_by_state.png')\n",
        "\n",
        "fig = plt.figure(figsize =(10, 10))\n",
        "\n",
        "\n",
        "plt.bar(emp_ind_dict2['State/Territory'], emp_ind_dict2['Employed Full-Time'])\n",
        "plt.bar(emp_ind_dict2['State/Territory'], emp_ind_dict2['Employed Part-Time'],bottom=emp_ind_dict2['Employed Full-Time'])\n",
        "plt.xlabel(\"State\")\n",
        "plt.ylabel(\"Number of Employees\")\n",
        "plt.legend(['Full-time','Part-time'])\n",
        "plt.title('Employment_type_in_tech_sector_by_state')\n",
        "\n",
        "plt.savefig('plots/Employment_type_by_state.png')"
      ],
      "metadata": {
        "colab": {
          "base_uri": "https://localhost:8080/",
          "height": 1000
        },
        "id": "RwA63T7cSPPQ",
        "outputId": "ed83d2d7-6d12-46e5-c2b4-7f0d247062b4"
      },
      "execution_count": 17,
      "outputs": [
        {
          "output_type": "display_data",
          "data": {
            "image/png": "[encoded data removed]",
            "text/plain": [
              "<Figure size 720x720 with 1 Axes>"
            ]
          },
          "metadata": {
            "needs_background": "light"
          }
        },
        {
          "output_type": "display_data",
          "data": {
            "image/png": "[encoded data removed]",
            "text/plain": [
              "<Figure size 720x720 with 1 Axes>"
            ]
          },
          "metadata": {
            "needs_background": "light"
          }
        }
      ]
    },
    {
      "cell_type": "markdown",
      "source": [
        "## Time series analysis: Forecasting"
      ],
      "metadata": {
        "id": "Kz9ch--XyJbX"
      }
    },
    {
      "cell_type": "markdown",
      "source": [
        "**Extracting data from excel and storing it into a data frame.**"
      ],
      "metadata": {
        "id": "CLXGxol_xkIC"
      }
    },
    {
      "cell_type": "code",
      "source": [
        "df_emp_ind_ts = pd.read_excel('data/employment_by_industry_time_series.xlsx', sheet_name=1)\n",
        "print(df_emp_ind_ts.head(5))"
      ],
      "metadata": {
        "colab": {
          "base_uri": "https://localhost:8080/"
        },
        "id": "t7RnBsPqsSLJ",
        "outputId": "7ffba7f2-e98a-4130-f60a-ca9f10fae68c"
      },
      "execution_count": 18,
      "outputs": [
        {
          "output_type": "stream",
          "name": "stdout",
          "text": [
            "  Employment Region State/Territory  ... 2020-11-01 00:00:00  2016-11-01 00:00:00\n",
            "0    Capital Region         NSW/ACT  ...                3300                 6200\n",
            "1    Capital Region         NSW/ACT  ...                 800                  500\n",
            "2    Capital Region         NSW/ACT  ...                7300                 8900\n",
            "3    Capital Region         NSW/ACT  ...                3300                 2900\n",
            "4    Capital Region         NSW/ACT  ...               31600                25400\n",
            "\n",
            "[5 rows x 6 columns]\n"
          ]
        }
      ]
    },
    {
      "cell_type": "code",
      "source": [
        "df_emp_ind_ts_dict = df_emp_ind_ts[(df_emp_ind_ts['Industry'] == tech_sector) & (df_emp_ind_ts['State/Territory'] == 'AUST')].to_dict('records')[0]\n"
      ],
      "metadata": {
        "id": "a_j_tAH7yCfJ"
      },
      "execution_count": 19,
      "outputs": []
    },
    {
      "cell_type": "code",
      "source": [
        "df_emp_ind_ts_dict.pop('Employment Region')\n",
        "df_emp_ind_ts_dict.pop('Industry')\n",
        "df_emp_ind_ts_dict.pop('State/Territory')\n",
        "\n"
      ],
      "metadata": {
        "colab": {
          "base_uri": "https://localhost:8080/",
          "height": 35
        },
        "id": "mikah835zFQy",
        "outputId": "0a38f9cd-cdb5-4c92-ccb9-5f930cd23ea3"
      },
      "execution_count": 20,
      "outputs": [
        {
          "output_type": "execute_result",
          "data": {
            "application/vnd.google.colaboratory.intrinsic+json": {
              "type": "string"
            },
            "text/plain": [
              "'AUST'"
            ]
          },
          "metadata": {},
          "execution_count": 20
        }
      ]
    },
    {
      "cell_type": "code",
      "source": [
        "df_emp_ind_ts_dict"
      ],
      "metadata": {
        "colab": {
          "base_uri": "https://localhost:8080/"
        },
        "id": "egHKfU8lzFTp",
        "outputId": "c5ef07eb-c657-4ccb-9e47-7f4ddbec876d"
      },
      "execution_count": 21,
      "outputs": [
        {
          "output_type": "execute_result",
          "data": {
            "text/plain": [
              "{datetime.datetime(2016, 11, 1, 0, 0): 216400,\n",
              " datetime.datetime(2020, 11, 1, 0, 0): 196000,\n",
              " datetime.datetime(2021, 11, 1, 0, 0): 192500}"
            ]
          },
          "metadata": {},
          "execution_count": 21
        }
      ]
    },
    {
      "cell_type": "code",
      "source": [
        "df_ts = pd.DataFrame.from_dict(df_emp_ind_ts_dict, orient='index', columns=['employment'])\n",
        "df_ts #.columns=['date', 'employment']"
      ],
      "metadata": {
        "colab": {
          "base_uri": "https://localhost:8080/",
          "height": 143
        },
        "id": "g5qnPW2CzFWY",
        "outputId": "418745b9-d97b-4d3e-a7e2-23feb78621cd"
      },
      "execution_count": 22,
      "outputs": [
        {
          "output_type": "execute_result",
          "data": {
            "text/html": [
              "\n",
              "  <div id=\"df-ebc827ec-a218-40df-b91c-462d123fd338\">\n",
              "    <div class=\"colab-df-container\">\n",
              "      <div>\n",
              "<style scoped>\n",
              "    .dataframe tbody tr th:only-of-type {\n",
              "        vertical-align: middle;\n",
              "    }\n",
              "\n",
              "    .dataframe tbody tr th {\n",
              "        vertical-align: top;\n",
              "    }\n",
              "\n",
              "    .dataframe thead th {\n",
              "        text-align: right;\n",
              "    }\n",
              "</style>\n",
              "<table border=\"1\" class=\"dataframe\">\n",
              "  <thead>\n",
              "    <tr style=\"text-align: right;\">\n",
              "      <th></th>\n",
              "      <th>employment</th>\n",
              "    </tr>\n",
              "  </thead>\n",
              "  <tbody>\n",
              "    <tr>\n",
              "      <th>2021-11-01</th>\n",
              "      <td>192500</td>\n",
              "    </tr>\n",
              "    <tr>\n",
              "      <th>2020-11-01</th>\n",
              "      <td>196000</td>\n",
              "    </tr>\n",
              "    <tr>\n",
              "      <th>2016-11-01</th>\n",
              "      <td>216400</td>\n",
              "    </tr>\n",
              "  </tbody>\n",
              "</table>\n",
              "</div>\n",
              "      <button class=\"colab-df-convert\" onclick=\"convertToInteractive('df-ebc827ec-a218-40df-b91c-462d123fd338')\"\n",
              "              title=\"Convert this dataframe to an interactive table.\"\n",
              "              style=\"display:none;\">\n",
              "        \n",
              "  <svg xmlns=\"http://www.w3.org/2000/svg\" height=\"24px\"viewBox=\"0 0 24 24\"\n",
              "       width=\"24px\">\n",
              "    <path d=\"M0 0h24v24H0V0z\" fill=\"none\"/>\n",
              "    <path d=\"M18.56 5.44l.94 2.06.94-2.06 2.06-.94-2.06-.94-.94-2.06-.94 2.06-2.06.94zm-11 1L8.5 8.5l.94-2.06 2.06-.94-2.06-.94L8.5 2.5l-.94 2.06-2.06.94zm10 10l.94 2.06.94-2.06 2.06-.94-2.06-.94-.94-2.06-.94 2.06-2.06.94z\"/><path d=\"M17.41 7.96l-1.37-1.37c-.4-.4-.92-.59-1.43-.59-.52 0-1.04.2-1.43.59L10.3 9.45l-7.72 7.72c-.78.78-.78 2.05 0 2.83L4 21.41c.39.39.9.59 1.41.59.51 0 1.02-.2 1.41-.59l7.78-7.78 2.81-2.81c.8-.78.8-2.07 0-2.86zM5.41 20L4 18.59l7.72-7.72 1.47 1.35L5.41 20z\"/>\n",
              "  </svg>\n",
              "      </button>\n",
              "      \n",
              "  <style>\n",
              "    .colab-df-container {\n",
              "      display:flex;\n",
              "      flex-wrap:wrap;\n",
              "      gap: 12px;\n",
              "    }\n",
              "\n",
              "    .colab-df-convert {\n",
              "      background-color: #E8F0FE;\n",
              "      border: none;\n",
              "      border-radius: 50%;\n",
              "      cursor: pointer;\n",
              "      display: none;\n",
              "      fill: #1967D2;\n",
              "      height: 32px;\n",
              "      padding: 0 0 0 0;\n",
              "      width: 32px;\n",
              "    }\n",
              "\n",
              "    .colab-df-convert:hover {\n",
              "      background-color: #E2EBFA;\n",
              "      box-shadow: 0px 1px 2px rgba(60, 64, 67, 0.3), 0px 1px 3px 1px rgba(60, 64, 67, 0.15);\n",
              "      fill: #174EA6;\n",
              "    }\n",
              "\n",
              "    [theme=dark] .colab-df-convert {\n",
              "      background-color: #3B4455;\n",
              "      fill: #D2E3FC;\n",
              "    }\n",
              "\n",
              "    [theme=dark] .colab-df-convert:hover {\n",
              "      background-color: #434B5C;\n",
              "      box-shadow: 0px 1px 3px 1px rgba(0, 0, 0, 0.15);\n",
              "      filter: drop-shadow(0px 1px 2px rgba(0, 0, 0, 0.3));\n",
              "      fill: #FFFFFF;\n",
              "    }\n",
              "  </style>\n",
              "\n",
              "      <script>\n",
              "        const buttonEl =\n",
              "          document.querySelector('#df-ebc827ec-a218-40df-b91c-462d123fd338 button.colab-df-convert');\n",
              "        buttonEl.style.display =\n",
              "          google.colab.kernel.accessAllowed ? 'block' : 'none';\n",
              "\n",
              "        async function convertToInteractive(key) {\n",
              "          const element = document.querySelector('#df-ebc827ec-a218-40df-b91c-462d123fd338');\n",
              "          const dataTable =\n",
              "            await google.colab.kernel.invokeFunction('convertToInteractive',\n",
              "                                                     [key], {});\n",
              "          if (!dataTable) return;\n",
              "\n",
              "          const docLinkHtml = 'Like what you see? Visit the ' +\n",
              "            '<a target=\"_blank\" href=https://colab.research.google.com/notebooks/data_table.ipynb>data table notebook</a>'\n",
              "            + ' to learn more about interactive tables.';\n",
              "          element.innerHTML = '';\n",
              "          dataTable['output_type'] = 'display_data';\n",
              "          await google.colab.output.renderOutput(dataTable, element);\n",
              "          const docLink = document.createElement('div');\n",
              "          docLink.innerHTML = docLinkHtml;\n",
              "          element.appendChild(docLink);\n",
              "        }\n",
              "      </script>\n",
              "    </div>\n",
              "  </div>\n",
              "  "
            ],
            "text/plain": [
              "            employment\n",
              "2021-11-01      192500\n",
              "2020-11-01      196000\n",
              "2016-11-01      216400"
            ]
          },
          "metadata": {},
          "execution_count": 22
        }
      ]
    },
    {
      "cell_type": "markdown",
      "source": [
        "The given dataset has only 3 data points from 2016 to 2021, with the data for 2017, 2018, and 2019 missing. Using pandas interpolate method to fill the missing values for 2017, 2018, and 2019."
      ],
      "metadata": {
        "id": "zr3kJhT9TmCC"
      }
    },
    {
      "cell_type": "code",
      "source": [
        "time_index = pd.date_range(start=\"11/01/2016\", end='11/01/2021', freq=pd.DateOffset(years=1))\n",
        "emp_vals = [216400, np.nan, np.nan, np.nan, 196000, 192500]\n",
        "\n",
        "df_ts2 = pd.DataFrame(index=time_index)\n",
        "df_ts2['emp'] = emp_vals\n",
        "\n",
        "df_ts2 = df_ts2.interpolate()\n",
        "df_ts2"
      ],
      "metadata": {
        "colab": {
          "base_uri": "https://localhost:8080/",
          "height": 238
        },
        "id": "4akd_eg2yCh0",
        "outputId": "c69e9d60-af16-4b58-c774-72944c2b318f"
      },
      "execution_count": 23,
      "outputs": [
        {
          "output_type": "execute_result",
          "data": {
            "text/html": [
              "\n",
              "  <div id=\"df-cebb7874-0d08-4d15-8d58-8be84f442e5c\">\n",
              "    <div class=\"colab-df-container\">\n",
              "      <div>\n",
              "<style scoped>\n",
              "    .dataframe tbody tr th:only-of-type {\n",
              "        vertical-align: middle;\n",
              "    }\n",
              "\n",
              "    .dataframe tbody tr th {\n",
              "        vertical-align: top;\n",
              "    }\n",
              "\n",
              "    .dataframe thead th {\n",
              "        text-align: right;\n",
              "    }\n",
              "</style>\n",
              "<table border=\"1\" class=\"dataframe\">\n",
              "  <thead>\n",
              "    <tr style=\"text-align: right;\">\n",
              "      <th></th>\n",
              "      <th>emp</th>\n",
              "    </tr>\n",
              "  </thead>\n",
              "  <tbody>\n",
              "    <tr>\n",
              "      <th>2016-11-01</th>\n",
              "      <td>216400.0</td>\n",
              "    </tr>\n",
              "    <tr>\n",
              "      <th>2017-11-01</th>\n",
              "      <td>211300.0</td>\n",
              "    </tr>\n",
              "    <tr>\n",
              "      <th>2018-11-01</th>\n",
              "      <td>206200.0</td>\n",
              "    </tr>\n",
              "    <tr>\n",
              "      <th>2019-11-01</th>\n",
              "      <td>201100.0</td>\n",
              "    </tr>\n",
              "    <tr>\n",
              "      <th>2020-11-01</th>\n",
              "      <td>196000.0</td>\n",
              "    </tr>\n",
              "    <tr>\n",
              "      <th>2021-11-01</th>\n",
              "      <td>192500.0</td>\n",
              "    </tr>\n",
              "  </tbody>\n",
              "</table>\n",
              "</div>\n",
              "      <button class=\"colab-df-convert\" onclick=\"convertToInteractive('df-cebb7874-0d08-4d15-8d58-8be84f442e5c')\"\n",
              "              title=\"Convert this dataframe to an interactive table.\"\n",
              "              style=\"display:none;\">\n",
              "        \n",
              "  <svg xmlns=\"http://www.w3.org/2000/svg\" height=\"24px\"viewBox=\"0 0 24 24\"\n",
              "       width=\"24px\">\n",
              "    <path d=\"M0 0h24v24H0V0z\" fill=\"none\"/>\n",
              "    <path d=\"M18.56 5.44l.94 2.06.94-2.06 2.06-.94-2.06-.94-.94-2.06-.94 2.06-2.06.94zm-11 1L8.5 8.5l.94-2.06 2.06-.94-2.06-.94L8.5 2.5l-.94 2.06-2.06.94zm10 10l.94 2.06.94-2.06 2.06-.94-2.06-.94-.94-2.06-.94 2.06-2.06.94z\"/><path d=\"M17.41 7.96l-1.37-1.37c-.4-.4-.92-.59-1.43-.59-.52 0-1.04.2-1.43.59L10.3 9.45l-7.72 7.72c-.78.78-.78 2.05 0 2.83L4 21.41c.39.39.9.59 1.41.59.51 0 1.02-.2 1.41-.59l7.78-7.78 2.81-2.81c.8-.78.8-2.07 0-2.86zM5.41 20L4 18.59l7.72-7.72 1.47 1.35L5.41 20z\"/>\n",
              "  </svg>\n",
              "      </button>\n",
              "      \n",
              "  <style>\n",
              "    .colab-df-container {\n",
              "      display:flex;\n",
              "      flex-wrap:wrap;\n",
              "      gap: 12px;\n",
              "    }\n",
              "\n",
              "    .colab-df-convert {\n",
              "      background-color: #E8F0FE;\n",
              "      border: none;\n",
              "      border-radius: 50%;\n",
              "      cursor: pointer;\n",
              "      display: none;\n",
              "      fill: #1967D2;\n",
              "      height: 32px;\n",
              "      padding: 0 0 0 0;\n",
              "      width: 32px;\n",
              "    }\n",
              "\n",
              "    .colab-df-convert:hover {\n",
              "      background-color: #E2EBFA;\n",
              "      box-shadow: 0px 1px 2px rgba(60, 64, 67, 0.3), 0px 1px 3px 1px rgba(60, 64, 67, 0.15);\n",
              "      fill: #174EA6;\n",
              "    }\n",
              "\n",
              "    [theme=dark] .colab-df-convert {\n",
              "      background-color: #3B4455;\n",
              "      fill: #D2E3FC;\n",
              "    }\n",
              "\n",
              "    [theme=dark] .colab-df-convert:hover {\n",
              "      background-color: #434B5C;\n",
              "      box-shadow: 0px 1px 3px 1px rgba(0, 0, 0, 0.15);\n",
              "      filter: drop-shadow(0px 1px 2px rgba(0, 0, 0, 0.3));\n",
              "      fill: #FFFFFF;\n",
              "    }\n",
              "  </style>\n",
              "\n",
              "      <script>\n",
              "        const buttonEl =\n",
              "          document.querySelector('#df-cebb7874-0d08-4d15-8d58-8be84f442e5c button.colab-df-convert');\n",
              "        buttonEl.style.display =\n",
              "          google.colab.kernel.accessAllowed ? 'block' : 'none';\n",
              "\n",
              "        async function convertToInteractive(key) {\n",
              "          const element = document.querySelector('#df-cebb7874-0d08-4d15-8d58-8be84f442e5c');\n",
              "          const dataTable =\n",
              "            await google.colab.kernel.invokeFunction('convertToInteractive',\n",
              "                                                     [key], {});\n",
              "          if (!dataTable) return;\n",
              "\n",
              "          const docLinkHtml = 'Like what you see? Visit the ' +\n",
              "            '<a target=\"_blank\" href=https://colab.research.google.com/notebooks/data_table.ipynb>data table notebook</a>'\n",
              "            + ' to learn more about interactive tables.';\n",
              "          element.innerHTML = '';\n",
              "          dataTable['output_type'] = 'display_data';\n",
              "          await google.colab.output.renderOutput(dataTable, element);\n",
              "          const docLink = document.createElement('div');\n",
              "          docLink.innerHTML = docLinkHtml;\n",
              "          element.appendChild(docLink);\n",
              "        }\n",
              "      </script>\n",
              "    </div>\n",
              "  </div>\n",
              "  "
            ],
            "text/plain": [
              "                 emp\n",
              "2016-11-01  216400.0\n",
              "2017-11-01  211300.0\n",
              "2018-11-01  206200.0\n",
              "2019-11-01  201100.0\n",
              "2020-11-01  196000.0\n",
              "2021-11-01  192500.0"
            ]
          },
          "metadata": {},
          "execution_count": 23
        }
      ]
    },
    {
      "cell_type": "code",
      "source": [
        "fig = plt.figure(figsize =(10, 6))\n",
        "plt.plot(df_ts, '--bo',label='given data',ms=7)\n",
        "plt.plot(df_ts2, '*r',label='missing values interpolated',marker='o',fillstyle='none',ms=15)\n",
        "plt.xlabel('Year')\n",
        "plt.ylabel('Employment count in tech sector in Austrlia')\n",
        "plt.title('Given data vs interploated data')\n",
        "plt.legend()\n",
        "plt.savefig('plots/Given_data_vs_interploated_data.png')"
      ],
      "metadata": {
        "colab": {
          "base_uri": "https://localhost:8080/",
          "height": 404
        },
        "id": "V_770wMeyCki",
        "outputId": "8111bf9b-11eb-4937-d818-de4a8acb7fc3"
      },
      "execution_count": 24,
      "outputs": [
        {
          "output_type": "display_data",
          "data": {
            "image/png": "[encoded data removed]",
            "text/plain": [
              "<Figure size 720x432 with 1 Axes>"
            ]
          },
          "metadata": {
            "needs_background": "light"
          }
        }
      ]
    },
    {
      "cell_type": "markdown",
      "source": [
        "**Building an autoregression model to predict the future forecast of the data.**"
      ],
      "metadata": {
        "id": "0S8lZ5oyzlMb"
      }
    },
    {
      "cell_type": "code",
      "source": [
        "from statsmodels.tsa.ar_model import AutoReg\n"
      ],
      "metadata": {
        "id": "vGpcbp9UsECw"
      },
      "execution_count": 25,
      "outputs": []
    },
    {
      "cell_type": "code",
      "source": [
        "\n",
        "#Autoregerssion\n",
        "model = AutoReg(df_ts2['emp'], lags=1)\n",
        "model_fit = model.fit()\n",
        "\n",
        "yhat = model_fit.predict(6, 9)\n",
        "print(yhat)"
      ],
      "metadata": {
        "id": "ITg-NTkYtPcR",
        "colab": {
          "base_uri": "https://localhost:8080/"
        },
        "outputId": "92b89c09-6307-4142-c1ac-dc71d727dee5"
      },
      "execution_count": 26,
      "outputs": [
        {
          "output_type": "stream",
          "name": "stdout",
          "text": [
            "2022-11-01    188579.607843\n",
            "2023-11-01    184905.201077\n",
            "2024-11-01    181461.345323\n",
            "2025-11-01    178233.574636\n",
            "Freq: <DateOffset: years=1>, dtype: float64\n"
          ]
        }
      ]
    },
    {
      "cell_type": "code",
      "source": [
        "fig = plt.figure(figsize =(10, 10))\n",
        "plt.plot(df_ts2,'--bo',label='Actual data')\n",
        "plt.plot(yhat,'--*r',label='Forecasted data')\n",
        "plt.xlabel('Year')\n",
        "plt.ylabel('Employment count in tech sector in Austrlia')\n",
        "plt.title('Time series forecast of tech sector employment')\n",
        "plt.legend()\n",
        "plt.savefig('plots/Time_series_forecast.png')"
      ],
      "metadata": {
        "colab": {
          "base_uri": "https://localhost:8080/",
          "height": 621
        },
        "id": "htmcrzuOtPen",
        "outputId": "206d58b0-fd45-4ed4-df96-0130727300bb"
      },
      "execution_count": 27,
      "outputs": [
        {
          "output_type": "display_data",
          "data": {
            "image/png": "[encoded data removed]",
            "text/plain": [
              "<Figure size 720x720 with 1 Axes>"
            ]
          },
          "metadata": {
            "needs_background": "light"
          }
        }
      ]
    },
    {
      "cell_type": "markdown",
      "source": [
        "**Summary:**\n",
        "\n",
        "\n",
        "* Employment data by industry from Labour Market Information Portal (lmip.gov.au) is analysed to forecast employment in the tech sector in 2025.\n",
        "* As of November 2021, the number of people working in the tech sector in Australia is 192,500.\n",
        "\n",
        "* In this analysis, we are considering only Information Media and Telecommunications as tech sector but other industries such as Professional, Scientific and Technical Services also includes tech jobs.\n",
        "\n",
        "* The dataset has only 3 data points from 2016 to 2021 with the number of employees 2016: 216400, 2020:196000 and 2021: 192500 in the tech sector. This shows a roughly 11% drop over five years period, that is a 2.2% drop per annum.\n",
        "\n",
        "* The interpolation method is used to fill the missing values for the years 2017, 2018 and 2019. The interpolated values align well with the trend from 2016 to 2021 as can be seen from the \"Given data vs interpolated data\" plot.\n",
        "\n",
        "* As the number of data points is only 6, a very simply autoregression method is used to forecast for the next 4 years until 2025. \n",
        "\n",
        "* The model is not validated by dividing the data into train and test as the number of data for the training itself is only 6.\n",
        "\n",
        "* The forecasted employment in the tech sector for 2025 is 178233. This is a further 7.4% drop from the current 2021 employment.\n",
        "\n",
        "* The forecasted value is significantly smaller (roughly 82%) than the Tech council of Australia's goal of I million tech jobs by 2025.\n",
        "\n",
        "* As mentioned above, the main caveat of this analysis is that only \n",
        "\n",
        "* Information Media and Telecommunications is considered as the tech sector, which ignores many other possible tech sectors.\n",
        " "
      ],
      "metadata": {
        "id": "x-tRc8YQumBH"
      }
    }
  ]
}